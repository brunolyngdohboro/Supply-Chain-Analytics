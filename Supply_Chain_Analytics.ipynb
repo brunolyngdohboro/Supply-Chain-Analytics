{
 "cells": [
  {
   "cell_type": "markdown",
   "id": "37e91d32",
   "metadata": {},
   "source": [
    "# Project Description"
   ]
  },
  {
   "cell_type": "markdown",
   "id": "3d66899c",
   "metadata": {},
   "source": [
    "The project provides a real-world dataset focusing on supply chain analytics. As the main data analyst for Just In Time, you will help solve key shipment and inventory management challenges, analyze supply chain inefficiencies, and create insightful dashboards to inform business stakeholders about potential problems and propose structural business improvements."
   ]
  },
  {
   "cell_type": "markdown",
   "id": "489a4196",
   "metadata": {},
   "source": [
    "# Objective"
   ]
  },
  {
   "cell_type": "markdown",
   "id": "64ebe8a3",
   "metadata": {},
   "source": [
    "In this project, my primary focus is on addressing key challenges related to shipment and inventory management within the supply chain. To achieve this goal efficiently, the project has been divided into few objectives:"
   ]
  },
  {
   "cell_type": "markdown",
   "id": "69b20c9d",
   "metadata": {},
   "source": [
    "# Data Preparation"
   ]
  },
  {
   "cell_type": "code",
   "execution_count": 1,
   "id": "8755d675",
   "metadata": {},
   "outputs": [],
   "source": [
    "# import the libraries\n",
    "import pandas as pd\n",
    "import numpy as np"
   ]
  },
  {
   "cell_type": "code",
   "execution_count": 2,
   "id": "aaff7c78",
   "metadata": {},
   "outputs": [],
   "source": [
    "# import datasets\n",
    "df_orders = pd.read_csv('orders_and_shipments.csv',encoding='ISO-8859-1')\n",
    "df_inventory = pd.read_csv('inventory.csv')\n",
    "df_fulfillment = pd.read_csv('fulfillment.csv')"
   ]
  },
  {
   "cell_type": "code",
   "execution_count": 3,
   "id": "e55804b5",
   "metadata": {},
   "outputs": [
    {
     "data": {
      "text/html": [
       "<div>\n",
       "<style scoped>\n",
       "    .dataframe tbody tr th:only-of-type {\n",
       "        vertical-align: middle;\n",
       "    }\n",
       "\n",
       "    .dataframe tbody tr th {\n",
       "        vertical-align: top;\n",
       "    }\n",
       "\n",
       "    .dataframe thead th {\n",
       "        text-align: right;\n",
       "    }\n",
       "</style>\n",
       "<table border=\"1\" class=\"dataframe\">\n",
       "  <thead>\n",
       "    <tr style=\"text-align: right;\">\n",
       "      <th></th>\n",
       "      <th>Order ID</th>\n",
       "      <th>Order Item ID</th>\n",
       "      <th>Order YearMonth</th>\n",
       "      <th>Order Year</th>\n",
       "      <th>Order Month</th>\n",
       "      <th>Order Day</th>\n",
       "      <th>Order Time</th>\n",
       "      <th>Order Quantity</th>\n",
       "      <th>Product Department</th>\n",
       "      <th>Product Category</th>\n",
       "      <th>...</th>\n",
       "      <th>Customer Country</th>\n",
       "      <th>Warehouse Country</th>\n",
       "      <th>Shipment Year</th>\n",
       "      <th>Shipment Month</th>\n",
       "      <th>Shipment Day</th>\n",
       "      <th>Shipment Mode</th>\n",
       "      <th>Shipment Days - Scheduled</th>\n",
       "      <th>Gross Sales</th>\n",
       "      <th>Discount %</th>\n",
       "      <th>Profit</th>\n",
       "    </tr>\n",
       "  </thead>\n",
       "  <tbody>\n",
       "    <tr>\n",
       "      <th>0</th>\n",
       "      <td>3535</td>\n",
       "      <td>8793</td>\n",
       "      <td>201502</td>\n",
       "      <td>2015</td>\n",
       "      <td>2</td>\n",
       "      <td>21</td>\n",
       "      <td>14:07</td>\n",
       "      <td>1</td>\n",
       "      <td>Fan Shop</td>\n",
       "      <td>Fishing</td>\n",
       "      <td>...</td>\n",
       "      <td>Mexico</td>\n",
       "      <td>Puerto Rico</td>\n",
       "      <td>2015</td>\n",
       "      <td>2</td>\n",
       "      <td>27</td>\n",
       "      <td>Standard Class</td>\n",
       "      <td>4</td>\n",
       "      <td>400</td>\n",
       "      <td>0.25</td>\n",
       "      <td>200</td>\n",
       "    </tr>\n",
       "    <tr>\n",
       "      <th>1</th>\n",
       "      <td>4133</td>\n",
       "      <td>10320</td>\n",
       "      <td>201503</td>\n",
       "      <td>2015</td>\n",
       "      <td>3</td>\n",
       "      <td>2</td>\n",
       "      <td>07:37</td>\n",
       "      <td>1</td>\n",
       "      <td>Fan Shop</td>\n",
       "      <td>Fishing</td>\n",
       "      <td>...</td>\n",
       "      <td>Brazil</td>\n",
       "      <td>Puerto Rico</td>\n",
       "      <td>2015</td>\n",
       "      <td>3</td>\n",
       "      <td>6</td>\n",
       "      <td>Standard Class</td>\n",
       "      <td>4</td>\n",
       "      <td>400</td>\n",
       "      <td>0.09</td>\n",
       "      <td>200</td>\n",
       "    </tr>\n",
       "    <tr>\n",
       "      <th>2</th>\n",
       "      <td>7396</td>\n",
       "      <td>18517</td>\n",
       "      <td>201504</td>\n",
       "      <td>2015</td>\n",
       "      <td>4</td>\n",
       "      <td>18</td>\n",
       "      <td>22:47</td>\n",
       "      <td>1</td>\n",
       "      <td>Fan Shop</td>\n",
       "      <td>Fishing</td>\n",
       "      <td>...</td>\n",
       "      <td>Mexico</td>\n",
       "      <td>Puerto Rico</td>\n",
       "      <td>2015</td>\n",
       "      <td>4</td>\n",
       "      <td>20</td>\n",
       "      <td>Standard Class</td>\n",
       "      <td>4</td>\n",
       "      <td>400</td>\n",
       "      <td>0.06</td>\n",
       "      <td>200</td>\n",
       "    </tr>\n",
       "    <tr>\n",
       "      <th>3</th>\n",
       "      <td>11026</td>\n",
       "      <td>27608</td>\n",
       "      <td>201506</td>\n",
       "      <td>2015</td>\n",
       "      <td>6</td>\n",
       "      <td>10</td>\n",
       "      <td>22:32</td>\n",
       "      <td>1</td>\n",
       "      <td>Fan Shop</td>\n",
       "      <td>Fishing</td>\n",
       "      <td>...</td>\n",
       "      <td>Denmark</td>\n",
       "      <td>Puerto Rico</td>\n",
       "      <td>2015</td>\n",
       "      <td>6</td>\n",
       "      <td>12</td>\n",
       "      <td>Standard Class</td>\n",
       "      <td>4</td>\n",
       "      <td>400</td>\n",
       "      <td>0.15</td>\n",
       "      <td>200</td>\n",
       "    </tr>\n",
       "    <tr>\n",
       "      <th>4</th>\n",
       "      <td>11026</td>\n",
       "      <td>27609</td>\n",
       "      <td>201506</td>\n",
       "      <td>2015</td>\n",
       "      <td>6</td>\n",
       "      <td>10</td>\n",
       "      <td>22:32</td>\n",
       "      <td>1</td>\n",
       "      <td>Fan Shop</td>\n",
       "      <td>Fishing</td>\n",
       "      <td>...</td>\n",
       "      <td>Denmark</td>\n",
       "      <td>Puerto Rico</td>\n",
       "      <td>2015</td>\n",
       "      <td>6</td>\n",
       "      <td>12</td>\n",
       "      <td>Standard Class</td>\n",
       "      <td>4</td>\n",
       "      <td>400</td>\n",
       "      <td>0.13</td>\n",
       "      <td>200</td>\n",
       "    </tr>\n",
       "  </tbody>\n",
       "</table>\n",
       "<p>5 rows × 24 columns</p>\n",
       "</div>"
      ],
      "text/plain": [
       "    Order ID    Order Item ID    Order YearMonth    Order Year   \\\n",
       "0        3535             8793             201502          2015   \n",
       "1        4133            10320             201503          2015   \n",
       "2        7396            18517             201504          2015   \n",
       "3       11026            27608             201506          2015   \n",
       "4       11026            27609             201506          2015   \n",
       "\n",
       "    Order Month    Order Day  Order Time  Order Quantity Product Department  \\\n",
       "0              2           21      14:07               1           Fan Shop   \n",
       "1              3            2      07:37               1           Fan Shop   \n",
       "2              4           18      22:47               1           Fan Shop   \n",
       "3              6           10      22:32               1           Fan Shop   \n",
       "4              6           10      22:32               1           Fan Shop   \n",
       "\n",
       "  Product Category  ... Customer Country  Warehouse Country Shipment Year  \\\n",
       "0          Fishing  ...           Mexico        Puerto Rico          2015   \n",
       "1          Fishing  ...           Brazil        Puerto Rico          2015   \n",
       "2          Fishing  ...           Mexico        Puerto Rico          2015   \n",
       "3          Fishing  ...          Denmark        Puerto Rico          2015   \n",
       "4          Fishing  ...          Denmark        Puerto Rico          2015   \n",
       "\n",
       "  Shipment Month Shipment Day   Shipment Mode   Shipment Days - Scheduled   \\\n",
       "0              2           27  Standard Class                            4   \n",
       "1              3            6  Standard Class                            4   \n",
       "2              4           20  Standard Class                            4   \n",
       "3              6           12  Standard Class                            4   \n",
       "4              6           12  Standard Class                            4   \n",
       "\n",
       "    Gross Sales    Discount %   Profit   \n",
       "0            400          0.25      200  \n",
       "1            400          0.09      200  \n",
       "2            400          0.06      200  \n",
       "3            400          0.15      200  \n",
       "4            400          0.13      200  \n",
       "\n",
       "[5 rows x 24 columns]"
      ]
     },
     "execution_count": 3,
     "metadata": {},
     "output_type": "execute_result"
    }
   ],
   "source": [
    "df_orders.head()"
   ]
  },
  {
   "cell_type": "code",
   "execution_count": 4,
   "id": "dded21d7",
   "metadata": {},
   "outputs": [
    {
     "data": {
      "text/html": [
       "<div>\n",
       "<style scoped>\n",
       "    .dataframe tbody tr th:only-of-type {\n",
       "        vertical-align: middle;\n",
       "    }\n",
       "\n",
       "    .dataframe tbody tr th {\n",
       "        vertical-align: top;\n",
       "    }\n",
       "\n",
       "    .dataframe thead th {\n",
       "        text-align: right;\n",
       "    }\n",
       "</style>\n",
       "<table border=\"1\" class=\"dataframe\">\n",
       "  <thead>\n",
       "    <tr style=\"text-align: right;\">\n",
       "      <th></th>\n",
       "      <th>Product Name</th>\n",
       "      <th>Year Month</th>\n",
       "      <th>Warehouse Inventory</th>\n",
       "      <th>Inventory Cost Per Unit</th>\n",
       "    </tr>\n",
       "  </thead>\n",
       "  <tbody>\n",
       "    <tr>\n",
       "      <th>0</th>\n",
       "      <td>Perfect Fitness Perfect Rip Deck</td>\n",
       "      <td>201712</td>\n",
       "      <td>0</td>\n",
       "      <td>0.69517</td>\n",
       "    </tr>\n",
       "    <tr>\n",
       "      <th>1</th>\n",
       "      <td>Nike Men's Dri-FIT Victory Golf Polo</td>\n",
       "      <td>201712</td>\n",
       "      <td>2</td>\n",
       "      <td>1.29291</td>\n",
       "    </tr>\n",
       "    <tr>\n",
       "      <th>2</th>\n",
       "      <td>O'Brien Men's Neoprene Life Vest</td>\n",
       "      <td>201712</td>\n",
       "      <td>0</td>\n",
       "      <td>0.56531</td>\n",
       "    </tr>\n",
       "    <tr>\n",
       "      <th>3</th>\n",
       "      <td>Nike Men's Free 5.0+ Running Shoe</td>\n",
       "      <td>201712</td>\n",
       "      <td>1</td>\n",
       "      <td>1.26321</td>\n",
       "    </tr>\n",
       "    <tr>\n",
       "      <th>4</th>\n",
       "      <td>Under Armour Girls' Toddler Spine Surge Runni</td>\n",
       "      <td>201712</td>\n",
       "      <td>0</td>\n",
       "      <td>1.47648</td>\n",
       "    </tr>\n",
       "  </tbody>\n",
       "</table>\n",
       "</div>"
      ],
      "text/plain": [
       "                                    Product Name   Year Month   \\\n",
       "0               Perfect Fitness Perfect Rip Deck        201712   \n",
       "1           Nike Men's Dri-FIT Victory Golf Polo        201712   \n",
       "2               O'Brien Men's Neoprene Life Vest        201712   \n",
       "3              Nike Men's Free 5.0+ Running Shoe        201712   \n",
       "4  Under Armour Girls' Toddler Spine Surge Runni        201712   \n",
       "\n",
       "    Warehouse Inventory   Inventory Cost Per Unit  \n",
       "0                      0                  0.69517  \n",
       "1                      2                  1.29291  \n",
       "2                      0                  0.56531  \n",
       "3                      1                  1.26321  \n",
       "4                      0                  1.47648  "
      ]
     },
     "execution_count": 4,
     "metadata": {},
     "output_type": "execute_result"
    }
   ],
   "source": [
    "df_inventory.head()"
   ]
  },
  {
   "cell_type": "code",
   "execution_count": 5,
   "id": "ec1d4bf9",
   "metadata": {},
   "outputs": [
    {
     "data": {
      "text/html": [
       "<div>\n",
       "<style scoped>\n",
       "    .dataframe tbody tr th:only-of-type {\n",
       "        vertical-align: middle;\n",
       "    }\n",
       "\n",
       "    .dataframe tbody tr th {\n",
       "        vertical-align: top;\n",
       "    }\n",
       "\n",
       "    .dataframe thead th {\n",
       "        text-align: right;\n",
       "    }\n",
       "</style>\n",
       "<table border=\"1\" class=\"dataframe\">\n",
       "  <thead>\n",
       "    <tr style=\"text-align: right;\">\n",
       "      <th></th>\n",
       "      <th>Product Name</th>\n",
       "      <th>Warehouse Order Fulfillment (days)</th>\n",
       "    </tr>\n",
       "  </thead>\n",
       "  <tbody>\n",
       "    <tr>\n",
       "      <th>0</th>\n",
       "      <td>Perfect Fitness Perfect Rip Deck</td>\n",
       "      <td>8.3</td>\n",
       "    </tr>\n",
       "    <tr>\n",
       "      <th>1</th>\n",
       "      <td>Nike Men's Dri-FIT Victory Golf Polo</td>\n",
       "      <td>6.6</td>\n",
       "    </tr>\n",
       "    <tr>\n",
       "      <th>2</th>\n",
       "      <td>O'Brien Men's Neoprene Life Vest</td>\n",
       "      <td>5.5</td>\n",
       "    </tr>\n",
       "    <tr>\n",
       "      <th>3</th>\n",
       "      <td>Nike Men's Free 5.0+ Running Shoe</td>\n",
       "      <td>9.4</td>\n",
       "    </tr>\n",
       "    <tr>\n",
       "      <th>4</th>\n",
       "      <td>Under Armour Girls' Toddler Spine Surge Runni</td>\n",
       "      <td>6.3</td>\n",
       "    </tr>\n",
       "  </tbody>\n",
       "</table>\n",
       "</div>"
      ],
      "text/plain": [
       "                                    Product Name  \\\n",
       "0               Perfect Fitness Perfect Rip Deck   \n",
       "1           Nike Men's Dri-FIT Victory Golf Polo   \n",
       "2               O'Brien Men's Neoprene Life Vest   \n",
       "3              Nike Men's Free 5.0+ Running Shoe   \n",
       "4  Under Armour Girls' Toddler Spine Surge Runni   \n",
       "\n",
       "    Warehouse Order Fulfillment (days)   \n",
       "0                                   8.3  \n",
       "1                                   6.6  \n",
       "2                                   5.5  \n",
       "3                                   9.4  \n",
       "4                                   6.3  "
      ]
     },
     "execution_count": 5,
     "metadata": {},
     "output_type": "execute_result"
    }
   ],
   "source": [
    "df_fulfillment.head()"
   ]
  },
  {
   "cell_type": "markdown",
   "id": "23e4bd4c",
   "metadata": {},
   "source": [
    "The dataset provides three data tables including order_and_shipment, inventory and fulfillment. After examining the data fields, I noticed that the dataset generally represents the following key information\n",
    "\n",
    "- Customer: General information about customers including identifiers and addresses\n",
    "\n",
    "- Order: Information about the order including date of order, product and quantity ordered, order value\n",
    "\n",
    "- Shipment: Shipping information including shipping date, shipping mode\n",
    "\n",
    "- Product: Specific information about the ordered item including product name, product category, product department\n",
    "\n",
    "- Warehouse Inventory: Information on inventory management for each product name including monthly inventory, warehouse location, storage costs, order fulfillment"
   ]
  },
  {
   "cell_type": "markdown",
   "id": "8ddf2dc6",
   "metadata": {},
   "source": [
    "# Data Cleaning"
   ]
  },
  {
   "cell_type": "markdown",
   "id": "b7dfd55d",
   "metadata": {},
   "source": [
    "## Handling Missing Value"
   ]
  },
  {
   "cell_type": "code",
   "execution_count": 6,
   "id": "6fb4ea89",
   "metadata": {},
   "outputs": [
    {
     "data": {
      "text/plain": [
       " Order ID                      0\n",
       " Order Item ID                 0\n",
       " Order YearMonth               0\n",
       " Order Year                    0\n",
       " Order Month                   0\n",
       " Order Day                     0\n",
       "Order Time                     0\n",
       "Order Quantity                 0\n",
       "Product Department             0\n",
       "Product Category               0\n",
       "Product Name                   0\n",
       " Customer ID                   0\n",
       "Customer Market                0\n",
       "Customer Region                0\n",
       "Customer Country               0\n",
       "Warehouse Country              0\n",
       "Shipment Year                  0\n",
       "Shipment Month                 0\n",
       "Shipment Day                   0\n",
       "Shipment Mode                  0\n",
       " Shipment Days - Scheduled     0\n",
       " Gross Sales                   0\n",
       " Discount %                    0\n",
       " Profit                        0\n",
       "dtype: int64"
      ]
     },
     "execution_count": 6,
     "metadata": {},
     "output_type": "execute_result"
    }
   ],
   "source": [
    "df_orders.isna().sum()"
   ]
  },
  {
   "cell_type": "code",
   "execution_count": 7,
   "id": "6edcfe18",
   "metadata": {},
   "outputs": [
    {
     "data": {
      "text/plain": [
       "Product Name               0\n",
       " Year Month                0\n",
       " Warehouse Inventory       0\n",
       "Inventory Cost Per Unit    0\n",
       "dtype: int64"
      ]
     },
     "execution_count": 7,
     "metadata": {},
     "output_type": "execute_result"
    }
   ],
   "source": [
    "df_inventory.isna().sum()"
   ]
  },
  {
   "cell_type": "code",
   "execution_count": 8,
   "id": "5d701b01",
   "metadata": {},
   "outputs": [
    {
     "data": {
      "text/plain": [
       "Product Name                            0\n",
       " Warehouse Order Fulfillment (days)     0\n",
       "dtype: int64"
      ]
     },
     "execution_count": 8,
     "metadata": {},
     "output_type": "execute_result"
    }
   ],
   "source": [
    "df_fulfillment.isna().sum()"
   ]
  },
  {
   "cell_type": "markdown",
   "id": "75e0040e",
   "metadata": {},
   "source": [
    "# Duplicated Data"
   ]
  },
  {
   "cell_type": "code",
   "execution_count": 9,
   "id": "18fa7aef",
   "metadata": {},
   "outputs": [
    {
     "data": {
      "text/plain": [
       "0"
      ]
     },
     "execution_count": 9,
     "metadata": {},
     "output_type": "execute_result"
    }
   ],
   "source": [
    "df_orders.duplicated().sum()"
   ]
  },
  {
   "cell_type": "code",
   "execution_count": 10,
   "id": "4631755d",
   "metadata": {},
   "outputs": [
    {
     "data": {
      "text/plain": [
       "0"
      ]
     },
     "execution_count": 10,
     "metadata": {},
     "output_type": "execute_result"
    }
   ],
   "source": [
    "df_inventory.duplicated().sum()"
   ]
  },
  {
   "cell_type": "code",
   "execution_count": 11,
   "id": "20505834",
   "metadata": {},
   "outputs": [
    {
     "data": {
      "text/plain": [
       "0"
      ]
     },
     "execution_count": 11,
     "metadata": {},
     "output_type": "execute_result"
    }
   ],
   "source": [
    "df_fulfillment.duplicated().sum()"
   ]
  },
  {
   "cell_type": "markdown",
   "id": "3f315db3",
   "metadata": {},
   "source": [
    "Moreover, the absence of any duplicate values in all three datasets is also promising. This indicates that the data is fairly clean and ready for analysis."
   ]
  },
  {
   "cell_type": "markdown",
   "id": "c1caf9f5",
   "metadata": {},
   "source": [
    "# Data Wrangling"
   ]
  },
  {
   "cell_type": "markdown",
   "id": "89c5e668",
   "metadata": {},
   "source": [
    "## Leading and Trailing Space"
   ]
  },
  {
   "cell_type": "code",
   "execution_count": 12,
   "id": "945015c4",
   "metadata": {},
   "outputs": [
    {
     "name": "stdout",
     "output_type": "stream",
     "text": [
      "<class 'pandas.core.frame.DataFrame'>\n",
      "RangeIndex: 30871 entries, 0 to 30870\n",
      "Data columns (total 24 columns):\n",
      " #   Column                       Non-Null Count  Dtype \n",
      "---  ------                       --------------  ----- \n",
      " 0    Order ID                    30871 non-null  int64 \n",
      " 1    Order Item ID               30871 non-null  int64 \n",
      " 2    Order YearMonth             30871 non-null  int64 \n",
      " 3    Order Year                  30871 non-null  int64 \n",
      " 4    Order Month                 30871 non-null  int64 \n",
      " 5    Order Day                   30871 non-null  int64 \n",
      " 6   Order Time                   30871 non-null  object\n",
      " 7   Order Quantity               30871 non-null  int64 \n",
      " 8   Product Department           30871 non-null  object\n",
      " 9   Product Category             30871 non-null  object\n",
      " 10  Product Name                 30871 non-null  object\n",
      " 11   Customer ID                 30871 non-null  int64 \n",
      " 12  Customer Market              30871 non-null  object\n",
      " 13  Customer Region              30871 non-null  object\n",
      " 14  Customer Country             30871 non-null  object\n",
      " 15  Warehouse Country            30871 non-null  object\n",
      " 16  Shipment Year                30871 non-null  int64 \n",
      " 17  Shipment Month               30871 non-null  int64 \n",
      " 18  Shipment Day                 30871 non-null  int64 \n",
      " 19  Shipment Mode                30871 non-null  object\n",
      " 20   Shipment Days - Scheduled   30871 non-null  int64 \n",
      " 21   Gross Sales                 30871 non-null  int64 \n",
      " 22   Discount %                  30871 non-null  object\n",
      " 23   Profit                      30871 non-null  int64 \n",
      "dtypes: int64(14), object(10)\n",
      "memory usage: 5.7+ MB\n"
     ]
    }
   ],
   "source": [
    "df_orders.info()"
   ]
  },
  {
   "cell_type": "code",
   "execution_count": 13,
   "id": "46717cf0",
   "metadata": {},
   "outputs": [
    {
     "name": "stdout",
     "output_type": "stream",
     "text": [
      "<class 'pandas.core.frame.DataFrame'>\n",
      "RangeIndex: 4200 entries, 0 to 4199\n",
      "Data columns (total 4 columns):\n",
      " #   Column                   Non-Null Count  Dtype  \n",
      "---  ------                   --------------  -----  \n",
      " 0   Product Name             4200 non-null   object \n",
      " 1    Year Month              4200 non-null   int64  \n",
      " 2    Warehouse Inventory     4200 non-null   int64  \n",
      " 3   Inventory Cost Per Unit  4200 non-null   float64\n",
      "dtypes: float64(1), int64(2), object(1)\n",
      "memory usage: 131.4+ KB\n"
     ]
    }
   ],
   "source": [
    "df_inventory.info()"
   ]
  },
  {
   "cell_type": "code",
   "execution_count": 14,
   "id": "9e9c0c63",
   "metadata": {},
   "outputs": [
    {
     "name": "stdout",
     "output_type": "stream",
     "text": [
      "<class 'pandas.core.frame.DataFrame'>\n",
      "RangeIndex: 118 entries, 0 to 117\n",
      "Data columns (total 2 columns):\n",
      " #   Column                                Non-Null Count  Dtype  \n",
      "---  ------                                --------------  -----  \n",
      " 0   Product Name                          118 non-null    object \n",
      " 1    Warehouse Order Fulfillment (days)   118 non-null    float64\n",
      "dtypes: float64(1), object(1)\n",
      "memory usage: 2.0+ KB\n"
     ]
    }
   ],
   "source": [
    "df_fulfillment.info()"
   ]
  },
  {
   "cell_type": "markdown",
   "id": "32826cf8",
   "metadata": {},
   "source": [
    "Upon inspecting the data using .info(), it has come to our attention that there are anomalies present in the datasets. Specifically, we have discovered that some columns contain leading or trailing spaces, which are not intended to be part of the column names."
   ]
  },
  {
   "cell_type": "code",
   "execution_count": 15,
   "id": "59b3f5e2",
   "metadata": {},
   "outputs": [],
   "source": [
    "# using strip fn removing unwanted spaces from columns name\n",
    "dataframes = [df_inventory, df_orders, df_fulfillment]\n",
    "\n",
    "for df in dataframes:\n",
    "  df.columns = df.columns.str.strip()"
   ]
  },
  {
   "cell_type": "code",
   "execution_count": 16,
   "id": "9f067d1e",
   "metadata": {},
   "outputs": [
    {
     "data": {
      "text/plain": [
       "Index(['Order ID', 'Order Item ID', 'Order YearMonth', 'Order Year',\n",
       "       'Order Month', 'Order Day', 'Order Time', 'Order Quantity',\n",
       "       'Product Department', 'Product Category', 'Product Name', 'Customer ID',\n",
       "       'Customer Market', 'Customer Region', 'Customer Country',\n",
       "       'Warehouse Country', 'Shipment Year', 'Shipment Month', 'Shipment Day',\n",
       "       'Shipment Mode', 'Shipment Days - Scheduled', 'Gross Sales',\n",
       "       'Discount %', 'Profit'],\n",
       "      dtype='object')"
      ]
     },
     "execution_count": 16,
     "metadata": {},
     "output_type": "execute_result"
    }
   ],
   "source": [
    "df_orders.columns"
   ]
  },
  {
   "cell_type": "code",
   "execution_count": 17,
   "id": "7c0d9b73",
   "metadata": {},
   "outputs": [
    {
     "data": {
      "text/plain": [
       "Index(['Product Name', 'Year Month', 'Warehouse Inventory',\n",
       "       'Inventory Cost Per Unit'],\n",
       "      dtype='object')"
      ]
     },
     "execution_count": 17,
     "metadata": {},
     "output_type": "execute_result"
    }
   ],
   "source": [
    "df_inventory.columns"
   ]
  },
  {
   "cell_type": "code",
   "execution_count": 18,
   "id": "56e9edc1",
   "metadata": {},
   "outputs": [
    {
     "data": {
      "text/plain": [
       "Index(['Product Name', 'Warehouse Order Fulfillment (days)'], dtype='object')"
      ]
     },
     "execution_count": 18,
     "metadata": {},
     "output_type": "execute_result"
    }
   ],
   "source": [
    "df_fulfillment.columns"
   ]
  },
  {
   "cell_type": "code",
   "execution_count": 19,
   "id": "0573bf5c",
   "metadata": {},
   "outputs": [
    {
     "data": {
      "text/plain": [
       "Index(['Order ID', 'Order Item ID', 'Order YearMonth', 'Order Year',\n",
       "       'Order Month', 'Order Day', 'Order Time', 'Order Quantity',\n",
       "       'Product Department', 'Product Category', 'Product Name', 'Customer ID',\n",
       "       'Customer Market', 'Customer Region', 'Customer Country',\n",
       "       'Warehouse Country', 'Shipment Year', 'Shipment Month', 'Shipment Day',\n",
       "       'Shipment Mode', 'Shipment Days - Scheduled', 'Gross Sales',\n",
       "       'Discount %', 'Profit'],\n",
       "      dtype='object')"
      ]
     },
     "execution_count": 19,
     "metadata": {},
     "output_type": "execute_result"
    }
   ],
   "source": [
    "df_orders.columns"
   ]
  },
  {
   "cell_type": "code",
   "execution_count": 20,
   "id": "3292822d",
   "metadata": {},
   "outputs": [
    {
     "data": {
      "text/plain": [
       "2330      0.25\n",
       "5891      0.13\n",
       "21901     0.06\n",
       "27050     0.03\n",
       "5320      0.25\n",
       "9630       0.1\n",
       "26327      -  \n",
       "22360     0.17\n",
       "24876     0.18\n",
       "24056     0.13\n",
       "4003      0.18\n",
       "23087     0.12\n",
       "17929      0.1\n",
       "19338     0.05\n",
       "22116     0.01\n",
       "22431     0.13\n",
       "23913     0.02\n",
       "25801     0.12\n",
       "2064      0.17\n",
       "15780     0.09\n",
       "26595     0.12\n",
       "10719      0.2\n",
       "23733     0.05\n",
       "23719     0.02\n",
       "18811     0.15\n",
       "7743      0.03\n",
       "1020      0.04\n",
       "8012      0.07\n",
       "2486      0.04\n",
       "10660     0.25\n",
       "Name: Discount %, dtype: object"
      ]
     },
     "execution_count": 20,
     "metadata": {},
     "output_type": "execute_result"
    }
   ],
   "source": [
    "df_orders['Discount %'].sample(30)"
   ]
  },
  {
   "cell_type": "markdown",
   "id": "b16b5cbb",
   "metadata": {},
   "source": [
    "Based on above data, there are some rows with - values. Need to replace this - values with 0. In odrer to read this data properly."
   ]
  },
  {
   "cell_type": "code",
   "execution_count": 21,
   "id": "d6683f55",
   "metadata": {},
   "outputs": [],
   "source": [
    "# Convert the '-' values to 0 in the 'Discount %' column and then change the data type from object to float\n",
    "df_orders['Discount %'] = df_orders['Discount %'].replace('  -  ', 0).astype(float)"
   ]
  },
  {
   "cell_type": "code",
   "execution_count": 22,
   "id": "1407ec36",
   "metadata": {},
   "outputs": [
    {
     "data": {
      "text/plain": [
       "Index(['Order ID', 'Order Item ID', 'Order YearMonth', 'Order Year',\n",
       "       'Order Month', 'Order Day', 'Order Time', 'Order Quantity',\n",
       "       'Product Department', 'Product Category', 'Product Name', 'Customer ID',\n",
       "       'Customer Market', 'Customer Region', 'Customer Country',\n",
       "       'Warehouse Country', 'Shipment Year', 'Shipment Month', 'Shipment Day',\n",
       "       'Shipment Mode', 'Shipment Days - Scheduled', 'Gross Sales',\n",
       "       'Discount %', 'Profit'],\n",
       "      dtype='object')"
      ]
     },
     "execution_count": 22,
     "metadata": {},
     "output_type": "execute_result"
    }
   ],
   "source": [
    "df_orders.columns"
   ]
  },
  {
   "cell_type": "markdown",
   "id": "a59ecaa1",
   "metadata": {},
   "source": [
    "# Feature Engineering :"
   ]
  },
  {
   "cell_type": "markdown",
   "id": "786cdbe3",
   "metadata": {},
   "source": [
    "Order Datetime & Shipment Datetime\n",
    "\n",
    "Due to the data being separated into multiple columns for year, month, day, and time, resulting in a large number of columns, I have decided to combine these columns into a single column that includes all the necessary date and time information. This will help simplify the data and make it more manageable for further analysis in Tableau."
   ]
  },
  {
   "cell_type": "code",
   "execution_count": 23,
   "id": "29934782",
   "metadata": {},
   "outputs": [
    {
     "data": {
      "text/html": [
       "<div>\n",
       "<style scoped>\n",
       "    .dataframe tbody tr th:only-of-type {\n",
       "        vertical-align: middle;\n",
       "    }\n",
       "\n",
       "    .dataframe tbody tr th {\n",
       "        vertical-align: top;\n",
       "    }\n",
       "\n",
       "    .dataframe thead th {\n",
       "        text-align: right;\n",
       "    }\n",
       "</style>\n",
       "<table border=\"1\" class=\"dataframe\">\n",
       "  <thead>\n",
       "    <tr style=\"text-align: right;\">\n",
       "      <th></th>\n",
       "      <th>Order Datetime</th>\n",
       "      <th>Shipment Datetime</th>\n",
       "    </tr>\n",
       "  </thead>\n",
       "  <tbody>\n",
       "    <tr>\n",
       "      <th>0</th>\n",
       "      <td>2015-02-21 14:07:00</td>\n",
       "      <td>2015-02-27</td>\n",
       "    </tr>\n",
       "    <tr>\n",
       "      <th>1</th>\n",
       "      <td>2015-03-02 07:37:00</td>\n",
       "      <td>2015-03-06</td>\n",
       "    </tr>\n",
       "    <tr>\n",
       "      <th>2</th>\n",
       "      <td>2015-04-18 22:47:00</td>\n",
       "      <td>2015-04-20</td>\n",
       "    </tr>\n",
       "    <tr>\n",
       "      <th>3</th>\n",
       "      <td>2015-06-10 22:32:00</td>\n",
       "      <td>2015-06-12</td>\n",
       "    </tr>\n",
       "    <tr>\n",
       "      <th>4</th>\n",
       "      <td>2015-06-10 22:32:00</td>\n",
       "      <td>2015-06-12</td>\n",
       "    </tr>\n",
       "  </tbody>\n",
       "</table>\n",
       "</div>"
      ],
      "text/plain": [
       "       Order Datetime Shipment Datetime\n",
       "0 2015-02-21 14:07:00        2015-02-27\n",
       "1 2015-03-02 07:37:00        2015-03-06\n",
       "2 2015-04-18 22:47:00        2015-04-20\n",
       "3 2015-06-10 22:32:00        2015-06-12\n",
       "4 2015-06-10 22:32:00        2015-06-12"
      ]
     },
     "execution_count": 23,
     "metadata": {},
     "output_type": "execute_result"
    }
   ],
   "source": [
    "# Make new columns: Order Datetime and Shipment Datetime\n",
    "df_orders['Order Datetime'] = pd.to_datetime(df_orders['Order Year'].astype(str) + '-' + df_orders['Order Month'].astype(str) + '-' + df_orders['Order Day'].astype(str) + ' ' + df_orders['Order Time'])\n",
    "df_orders['Shipment Datetime'] = pd.to_datetime(df_orders['Shipment Year'].astype(str) + '-' + df_orders['Shipment Month'].astype(str) + '-' + df_orders['Shipment Day'].astype(str))\n",
    "\n",
    "# Displaying the result\n",
    "df_orders[['Order Datetime', 'Shipment Datetime']].head()"
   ]
  },
  {
   "cell_type": "code",
   "execution_count": 24,
   "id": "58f3c7b0",
   "metadata": {},
   "outputs": [],
   "source": [
    "# Drop unnecessary columns\n",
    "df_orders.drop(columns=['Order Year', 'Order Month', 'Order Day', 'Order Time',\n",
    "                        'Shipment Year', 'Shipment Month', 'Shipment Day'], inplace=True)"
   ]
  },
  {
   "cell_type": "markdown",
   "id": "f8cb49f2",
   "metadata": {},
   "source": [
    "## Remving unwanted characters in country name"
   ]
  },
  {
   "cell_type": "code",
   "execution_count": 25,
   "id": "e7e03e32",
   "metadata": {},
   "outputs": [
    {
     "data": {
      "text/plain": [
       "array(['Mexico', 'Brazil', 'Denmark', 'Netherlands', 'Germany', 'China',\n",
       "       'Indonesia', 'Pakistan', 'India', 'USA', 'Hungary', 'Sudan',\n",
       "       'Democratic Republic of Congo', 'Poland', 'Togo', 'Guatemala',\n",
       "       'Panama', 'Chile', 'France', 'Sweden', 'Dominican\\xa0Republic',\n",
       "       'Venezuela', 'South Korea', 'Madagascar', 'Iran', 'Cuba',\n",
       "       'Nicaragua', 'United Kingdom', 'Afghanistan', 'Singapore',\n",
       "       'Morocco', 'Spain', 'Niger', 'Turkey', 'South Africa', 'Iraq',\n",
       "       'Honduras', 'Italy', 'Australia', 'Cote d\\x92Ivoire', 'Croatia',\n",
       "       'Ecuador', 'Syria', 'Haiti', 'Bangladesh', 'Argentina', 'Romania',\n",
       "       'El Salvador', 'Vietnam', 'Japan', 'Nigeria', 'Belarus',\n",
       "       'Uzbekistan', 'Egypt', 'Albania', 'Georgia', 'Cameroon',\n",
       "       'Colombia', 'New zealand', 'Canada', 'Thailand', 'Senegal',\n",
       "       'Russia', 'Perú', 'Algeria\\xa0', 'Ukraine', 'Belgium',\n",
       "       'Philippines', 'Austria', 'Uruguay', 'Malaysia', 'Hong Kong',\n",
       "       'Saudi Arabia', 'Switzerland', 'Ireland', 'Bulgaria', 'Zambia',\n",
       "       'Jamaica', 'Ghana', 'Yemen', 'Norway', 'Tanzania', 'Kazakhstan',\n",
       "       'Libya', 'Trinidad and Tobago', 'Finland', 'Portugal', 'Kenya',\n",
       "       'Jordania', 'Bolivia', 'Gabon', 'Angola', 'Myanmar', 'Mali', 'UAE',\n",
       "       'Bosnia and Herzegovina', 'Guinea', 'Cambodia', 'Papua New Guinea',\n",
       "       'Rwanda', 'Israel\\xa0', 'Guyana', 'Somalia', 'Barbados',\n",
       "       'Guadalupe', 'Kyrgyzstan', 'Benín', 'Tunisia', 'Lithuania',\n",
       "       'Montenegro', 'Costa Rica', 'Mozambique', 'Sri Lanka', 'Taiwan',\n",
       "       'Czech Republic (Czechia)', 'Lesotho', 'Mongolia', 'Macedonia',\n",
       "       'Zimbabwe', 'Liberia', 'Liban', 'Guinea-Bissau', 'Estonia',\n",
       "       'Azerbaijan', 'Moldova', 'Republic of Congo', 'Gambia',\n",
       "       'Mauritania', 'Belize', 'Qatar', 'Sierra Leona', 'Slovakia',\n",
       "       'Martinique', 'Uganda', 'Namibia', 'Paraguay', 'Oman',\n",
       "       'French Guiana', 'Nepal'], dtype=object)"
      ]
     },
     "execution_count": 25,
     "metadata": {},
     "output_type": "execute_result"
    }
   ],
   "source": [
    "df_orders['Customer Country'].unique()"
   ]
  },
  {
   "cell_type": "code",
   "execution_count": 26,
   "id": "4622a99f",
   "metadata": {},
   "outputs": [
    {
     "data": {
      "text/plain": [
       "array(['Mexico', 'Brazil', 'Denmark', 'Netherlands', 'Germany', 'China',\n",
       "       'Indonesia', 'Pakistan', 'India', 'USA', 'Hungary', 'Sudan',\n",
       "       'Democratic Republic of Congo', 'Poland', 'Togo', 'Guatemala',\n",
       "       'Panama', 'Chile', 'France', 'Sweden', 'Dominican Republic',\n",
       "       'Venezuela', 'South Korea', 'Madagascar', 'Iran', 'Cuba',\n",
       "       'Nicaragua', 'United Kingdom', 'Afghanistan', 'Singapore',\n",
       "       'Morocco', 'Spain', 'Niger', 'Turkey', 'South Africa', 'Iraq',\n",
       "       'Honduras', 'Italy', 'Australia', 'Cote d Ivoire', 'Croatia',\n",
       "       'Ecuador', 'Syria', 'Haiti', 'Bangladesh', 'Argentina', 'Romania',\n",
       "       'El Salvador', 'Vietnam', 'Japan', 'Nigeria', 'Belarus',\n",
       "       'Uzbekistan', 'Egypt', 'Albania', 'Georgia', 'Cameroon',\n",
       "       'Colombia', 'New zealand', 'Canada', 'Thailand', 'Senegal',\n",
       "       'Russia', 'Peru', 'Algeria', 'Ukraine', 'Belgium', 'Philippines',\n",
       "       'Austria', 'Uruguay', 'Malaysia', 'Hong Kong', 'Saudi Arabia',\n",
       "       'Switzerland', 'Ireland', 'Bulgaria', 'Zambia', 'Jamaica', 'Ghana',\n",
       "       'Yemen', 'Norway', 'Tanzania', 'Kazakhstan', 'Libya',\n",
       "       'Trinidad and Tobago', 'Finland', 'Portugal', 'Kenya', 'Jordania',\n",
       "       'Bolivia', 'Gabon', 'Angola', 'Myanmar', 'Mali', 'UAE',\n",
       "       'Bosnia and Herzegovina', 'Guinea', 'Cambodia', 'Papua New Guinea',\n",
       "       'Rwanda', 'Israel', 'Guyana', 'Somalia', 'Barbados', 'Guadalupe',\n",
       "       'Kyrgyzstan', 'Benin', 'Tunisia', 'Lithuania', 'Montenegro',\n",
       "       'Costa Rica', 'Mozambique', 'Sri Lanka', 'Taiwan',\n",
       "       'Czech Republic (Czechia)', 'Lesotho', 'Mongolia', 'Macedonia',\n",
       "       'Zimbabwe', 'Liberia', 'Liban', 'Guinea-Bissau', 'Estonia',\n",
       "       'Azerbaijan', 'Moldova', 'Republic of Congo', 'Gambia',\n",
       "       'Mauritania', 'Belize', 'Qatar', 'Sierra Leona', 'Slovakia',\n",
       "       'Martinique', 'Uganda', 'Namibia', 'Paraguay', 'Oman',\n",
       "       'French Guiana', 'Nepal'], dtype=object)"
      ]
     },
     "execution_count": 26,
     "metadata": {},
     "output_type": "execute_result"
    }
   ],
   "source": [
    "#replace the special characters in the Customer Country column\n",
    "df_orders['Customer Country'] = df_orders['Customer Country'].replace({\n",
    "    'Dominican\\xa0Republic': 'Dominican Republic',\n",
    "    'Cote d\\x92Ivoire': 'Cote d Ivoire', # Added a comma at the end of this line\n",
    "    'Perú': 'Peru',\n",
    "    'Algeria\\xa0': 'Algeria',\n",
    "    'Israel\\xa0':'Israel',\n",
    "    'Benín': 'Benin'\n",
    "})\n",
    "df_orders['Customer Country'].unique()"
   ]
  },
  {
   "cell_type": "markdown",
   "id": "4a7a338e",
   "metadata": {},
   "source": [
    "# Data Manipulation"
   ]
  },
  {
   "cell_type": "markdown",
   "id": "c45e4d45",
   "metadata": {},
   "source": [
    "## Order Processing Time"
   ]
  },
  {
   "cell_type": "markdown",
   "id": "99b86200",
   "metadata": {},
   "source": [
    "The \"Order Processing Time\" is obtained by subtracting the \"Order Datetime\" from the \"Shipment Datetime\".\n",
    "\n",
    "It measures the time taken for the order to move through various stages, including processing, packing, and delivery preparation, until it is ready for shipment.\n",
    "\n",
    "This metric helps us understand how quickly we can fulfill customer orders and deliver products to their destination."
   ]
  },
  {
   "cell_type": "code",
   "execution_count": 27,
   "id": "f645c5f4",
   "metadata": {},
   "outputs": [
    {
     "data": {
      "text/html": [
       "<div>\n",
       "<style scoped>\n",
       "    .dataframe tbody tr th:only-of-type {\n",
       "        vertical-align: middle;\n",
       "    }\n",
       "\n",
       "    .dataframe tbody tr th {\n",
       "        vertical-align: top;\n",
       "    }\n",
       "\n",
       "    .dataframe thead th {\n",
       "        text-align: right;\n",
       "    }\n",
       "</style>\n",
       "<table border=\"1\" class=\"dataframe\">\n",
       "  <thead>\n",
       "    <tr style=\"text-align: right;\">\n",
       "      <th></th>\n",
       "      <th>Order ID</th>\n",
       "      <th>Order Item ID</th>\n",
       "      <th>Order YearMonth</th>\n",
       "      <th>Order Quantity</th>\n",
       "      <th>Product Department</th>\n",
       "      <th>Product Category</th>\n",
       "      <th>Product Name</th>\n",
       "      <th>Customer ID</th>\n",
       "      <th>Customer Market</th>\n",
       "      <th>Customer Region</th>\n",
       "      <th>Customer Country</th>\n",
       "      <th>Warehouse Country</th>\n",
       "      <th>Shipment Mode</th>\n",
       "      <th>Shipment Days - Scheduled</th>\n",
       "      <th>Gross Sales</th>\n",
       "      <th>Discount %</th>\n",
       "      <th>Profit</th>\n",
       "      <th>Order Datetime</th>\n",
       "      <th>Shipment Datetime</th>\n",
       "      <th>Order Processing Time</th>\n",
       "    </tr>\n",
       "  </thead>\n",
       "  <tbody>\n",
       "    <tr>\n",
       "      <th>12017</th>\n",
       "      <td>67351</td>\n",
       "      <td>168338</td>\n",
       "      <td>201709</td>\n",
       "      <td>5</td>\n",
       "      <td>Footwear</td>\n",
       "      <td>Cardio Equipment</td>\n",
       "      <td>Nike Men's Free 5.0+ Running Shoe</td>\n",
       "      <td>4572</td>\n",
       "      <td>Europe</td>\n",
       "      <td>Northern Europe</td>\n",
       "      <td>Sweden</td>\n",
       "      <td>USA</td>\n",
       "      <td>Standard Class</td>\n",
       "      <td>4</td>\n",
       "      <td>500</td>\n",
       "      <td>0.15</td>\n",
       "      <td>245</td>\n",
       "      <td>2017-09-10 03:42:00</td>\n",
       "      <td>2017-09-12</td>\n",
       "      <td>1</td>\n",
       "    </tr>\n",
       "    <tr>\n",
       "      <th>26523</th>\n",
       "      <td>43815</td>\n",
       "      <td>109432</td>\n",
       "      <td>201610</td>\n",
       "      <td>4</td>\n",
       "      <td>Footwear</td>\n",
       "      <td>Cardio Equipment</td>\n",
       "      <td>Nike Men's Free 5.0+ Running Shoe</td>\n",
       "      <td>12384</td>\n",
       "      <td>Africa</td>\n",
       "      <td>West Africa</td>\n",
       "      <td>Nigeria</td>\n",
       "      <td>Puerto Rico</td>\n",
       "      <td>Standard Class</td>\n",
       "      <td>4</td>\n",
       "      <td>400</td>\n",
       "      <td>0.20</td>\n",
       "      <td>245</td>\n",
       "      <td>2016-10-01 13:59:00</td>\n",
       "      <td>2017-05-25</td>\n",
       "      <td>235</td>\n",
       "    </tr>\n",
       "    <tr>\n",
       "      <th>20298</th>\n",
       "      <td>17908</td>\n",
       "      <td>44731</td>\n",
       "      <td>201509</td>\n",
       "      <td>1</td>\n",
       "      <td>Apparel</td>\n",
       "      <td>Men's Footwear</td>\n",
       "      <td>Nike Men's CJ Elite 2 TD Football Cleat</td>\n",
       "      <td>1903</td>\n",
       "      <td>Europe</td>\n",
       "      <td>Western Europe</td>\n",
       "      <td>Germany</td>\n",
       "      <td>USA</td>\n",
       "      <td>Standard Class</td>\n",
       "      <td>4</td>\n",
       "      <td>130</td>\n",
       "      <td>0.15</td>\n",
       "      <td>65</td>\n",
       "      <td>2015-09-19 09:37:00</td>\n",
       "      <td>2015-09-23</td>\n",
       "      <td>3</td>\n",
       "    </tr>\n",
       "    <tr>\n",
       "      <th>21360</th>\n",
       "      <td>51675</td>\n",
       "      <td>129118</td>\n",
       "      <td>201703</td>\n",
       "      <td>4</td>\n",
       "      <td>Fan Shop</td>\n",
       "      <td>Hunting &amp; Shooting</td>\n",
       "      <td>ENO Atlas Hammock Straps</td>\n",
       "      <td>6199</td>\n",
       "      <td>LATAM</td>\n",
       "      <td>South America</td>\n",
       "      <td>Peru</td>\n",
       "      <td>USA</td>\n",
       "      <td>Standard Class</td>\n",
       "      <td>4</td>\n",
       "      <td>120</td>\n",
       "      <td>0.01</td>\n",
       "      <td>68</td>\n",
       "      <td>2017-03-04 16:34:00</td>\n",
       "      <td>2017-03-07</td>\n",
       "      <td>2</td>\n",
       "    </tr>\n",
       "    <tr>\n",
       "      <th>10172</th>\n",
       "      <td>17901</td>\n",
       "      <td>44714</td>\n",
       "      <td>201509</td>\n",
       "      <td>2</td>\n",
       "      <td>Outdoors</td>\n",
       "      <td>Electronics</td>\n",
       "      <td>Titleist Pro V1x High Numbers Golf Balls</td>\n",
       "      <td>12327</td>\n",
       "      <td>Europe</td>\n",
       "      <td>Southern Europe</td>\n",
       "      <td>Italy</td>\n",
       "      <td>Puerto Rico</td>\n",
       "      <td>First Class</td>\n",
       "      <td>1</td>\n",
       "      <td>96</td>\n",
       "      <td>0.04</td>\n",
       "      <td>104</td>\n",
       "      <td>2015-09-19 07:10:00</td>\n",
       "      <td>2015-09-21</td>\n",
       "      <td>1</td>\n",
       "    </tr>\n",
       "  </tbody>\n",
       "</table>\n",
       "</div>"
      ],
      "text/plain": [
       "       Order ID  Order Item ID  Order YearMonth  Order Quantity  \\\n",
       "12017     67351         168338           201709               5   \n",
       "26523     43815         109432           201610               4   \n",
       "20298     17908          44731           201509               1   \n",
       "21360     51675         129118           201703               4   \n",
       "10172     17901          44714           201509               2   \n",
       "\n",
       "      Product Department    Product Category  \\\n",
       "12017           Footwear    Cardio Equipment   \n",
       "26523           Footwear    Cardio Equipment   \n",
       "20298            Apparel      Men's Footwear   \n",
       "21360           Fan Shop  Hunting & Shooting   \n",
       "10172           Outdoors         Electronics   \n",
       "\n",
       "                                   Product Name  Customer ID Customer Market  \\\n",
       "12017         Nike Men's Free 5.0+ Running Shoe         4572          Europe   \n",
       "26523         Nike Men's Free 5.0+ Running Shoe        12384          Africa   \n",
       "20298   Nike Men's CJ Elite 2 TD Football Cleat         1903          Europe   \n",
       "21360                  ENO Atlas Hammock Straps         6199           LATAM   \n",
       "10172  Titleist Pro V1x High Numbers Golf Balls        12327          Europe   \n",
       "\n",
       "       Customer Region Customer Country Warehouse Country   Shipment Mode  \\\n",
       "12017  Northern Europe           Sweden               USA  Standard Class   \n",
       "26523      West Africa          Nigeria       Puerto Rico  Standard Class   \n",
       "20298   Western Europe          Germany               USA  Standard Class   \n",
       "21360    South America             Peru               USA  Standard Class   \n",
       "10172  Southern Europe            Italy       Puerto Rico     First Class   \n",
       "\n",
       "       Shipment Days - Scheduled  Gross Sales  Discount %  Profit  \\\n",
       "12017                          4          500        0.15     245   \n",
       "26523                          4          400        0.20     245   \n",
       "20298                          4          130        0.15      65   \n",
       "21360                          4          120        0.01      68   \n",
       "10172                          1           96        0.04     104   \n",
       "\n",
       "           Order Datetime Shipment Datetime  Order Processing Time  \n",
       "12017 2017-09-10 03:42:00        2017-09-12                      1  \n",
       "26523 2016-10-01 13:59:00        2017-05-25                    235  \n",
       "20298 2015-09-19 09:37:00        2015-09-23                      3  \n",
       "21360 2017-03-04 16:34:00        2017-03-07                      2  \n",
       "10172 2015-09-19 07:10:00        2015-09-21                      1  "
      ]
     },
     "execution_count": 27,
     "metadata": {},
     "output_type": "execute_result"
    }
   ],
   "source": [
    "df_orders['Order Processing Time'] = (df_orders['Shipment Datetime'] - df_orders['Order Datetime']).dt.days\n",
    "df_orders['Order Processing Time'] = df_orders['Order Processing Time'].apply(lambda x: 0 if x == -1 else x)\n",
    "\n",
    "df_orders.sample(5)"
   ]
  },
  {
   "cell_type": "markdown",
   "id": "13e0246d",
   "metadata": {},
   "source": [
    "The presence of timestamps in the order of dates provides more accurate and detailed information about the time intervals between events. However, when calculating \"Order Processing Time\" using a timestamp, it can result in a negative value of 1 on same-day shipping as the order, because the shipping date does not have a timestamp, which is why the default timestamp of 00:00:00 is used.\n",
    "\n",
    "To address this issue, we implemented a lambda function to set a negative value of 1 to 0, ensuring the calculated duration is not negative and meaningful for analysis. This approach allows us to gain valuable insights into the efficiency of the shipping process and delivery time, taking into account the time-sensitive nature of the data."
   ]
  },
  {
   "cell_type": "markdown",
   "id": "e03fdc82",
   "metadata": {},
   "source": [
    "# Feature Metrics"
   ]
  },
  {
   "cell_type": "markdown",
   "id": "4e32cfb8",
   "metadata": {},
   "source": [
    "The feature metrics that planning to create in tableau which helps to further analyze inventory management, Shipement delay and many more."
   ]
  },
  {
   "cell_type": "markdown",
   "id": "dd970ddf",
   "metadata": {},
   "source": [
    "## Total Inventory Storage Cost"
   ]
  },
  {
   "cell_type": "markdown",
   "id": "3a764f54",
   "metadata": {},
   "source": [
    "Total Cost of Inventory is a significant financial metric in supply chain management that calculates the overall cost associated with holding and managing inventory.\n",
    "\n",
    "The formula for calculating Total Inventory Cost is: Warehouse Inventory times Inventory Cost per Unit."
   ]
  },
  {
   "cell_type": "markdown",
   "id": "2f128f73",
   "metadata": {},
   "source": [
    "## Storage Cost"
   ]
  },
  {
   "cell_type": "markdown",
   "id": "ca4f1342",
   "metadata": {},
   "source": [
    "Storage_Cost = [Inventory Cost Per Unit]*[Warehouse Inventory]"
   ]
  },
  {
   "cell_type": "markdown",
   "id": "276767ae",
   "metadata": {},
   "source": [
    "## Shipment Delay"
   ]
  },
  {
   "cell_type": "markdown",
   "id": "0fc76fb6",
   "metadata": {},
   "source": [
    "Shipment Delay is a metric that measures the time difference between the expected shipment date and the actual date that the order is delivered to the customer. This helps identify and measure the efficiency and reliability of the shipping processes.\n",
    "\n",
    "The calculation of Shipment Delay involves comparing the Shipment Days - Actual (actual date the order is shipped) with the Shipment Days - Scheduled (the expected or planned date of shipment)."
   ]
  },
  {
   "cell_type": "markdown",
   "id": "92e5bfc8",
   "metadata": {},
   "source": [
    "## Shipment Delay in Days"
   ]
  },
  {
   "cell_type": "markdown",
   "id": "01ceb739",
   "metadata": {},
   "source": [
    "Shipment Delay = [Shipment Days - Actual] - ['Shipment Days - Scheduled']"
   ]
  },
  {
   "cell_type": "markdown",
   "id": "dbf772a9",
   "metadata": {},
   "source": [
    "## Profit Margin"
   ]
  },
  {
   "cell_type": "markdown",
   "id": "71129cde",
   "metadata": {},
   "source": [
    "Profit Margin helps to assessing the profitability of the supply chain operations. It provides insights into the effectiveness of cost control and pricing strategies, enabling organizations to make adjustments to enhance overall profitability.\n",
    "\n",
    "Profit Margin : Total Profit / Total Gross Sales *100"
   ]
  },
  {
   "cell_type": "markdown",
   "id": "116a31fd",
   "metadata": {},
   "source": [
    "## Inventory to Sales Delta"
   ]
  },
  {
   "cell_type": "markdown",
   "id": "f9480af3",
   "metadata": {},
   "source": [
    "This is metric which indicating how efficiently inventory is managed and whether there may be overstocking or understocking issues, allowing for more informed decisions to optimize inventory levels.\n",
    "\n",
    "Inventory to Sales Delta = Total Warehouse Inventory - Total Order Quantity"
   ]
  },
  {
   "cell_type": "markdown",
   "id": "8bbe4320",
   "metadata": {},
   "source": [
    "## Under or Overstock"
   ]
  },
  {
   "cell_type": "markdown",
   "id": "e1bcf706",
   "metadata": {},
   "source": [
    "Under or Overstock helps to find which products are Overstock and which are understock. And it helps to the balance of inventory.\n",
    "\n",
    "Under or Overstock = Inventory to Sales Delta >0 THEN 'Overstock' ELSE 'Understock'"
   ]
  },
  {
   "cell_type": "markdown",
   "id": "e6a40c8d",
   "metadata": {},
   "source": [
    "## Data Exporting & Conclusion"
   ]
  },
  {
   "cell_type": "code",
   "execution_count": 29,
   "id": "3318d879",
   "metadata": {},
   "outputs": [
    {
     "name": "stdout",
     "output_type": "stream",
     "text": [
      "<class 'pandas.core.frame.DataFrame'>\n",
      "RangeIndex: 30871 entries, 0 to 30870\n",
      "Data columns (total 20 columns):\n",
      " #   Column                     Non-Null Count  Dtype         \n",
      "---  ------                     --------------  -----         \n",
      " 0   Order ID                   30871 non-null  int64         \n",
      " 1   Order Item ID              30871 non-null  int64         \n",
      " 2   Order YearMonth            30871 non-null  int64         \n",
      " 3   Order Quantity             30871 non-null  int64         \n",
      " 4   Product Department         30871 non-null  object        \n",
      " 5   Product Category           30871 non-null  object        \n",
      " 6   Product Name               30871 non-null  object        \n",
      " 7   Customer ID                30871 non-null  int64         \n",
      " 8   Customer Market            30871 non-null  object        \n",
      " 9   Customer Region            30871 non-null  object        \n",
      " 10  Customer Country           30871 non-null  object        \n",
      " 11  Warehouse Country          30871 non-null  object        \n",
      " 12  Shipment Mode              30871 non-null  object        \n",
      " 13  Shipment Days - Scheduled  30871 non-null  int64         \n",
      " 14  Gross Sales                30871 non-null  int64         \n",
      " 15  Discount %                 30871 non-null  float64       \n",
      " 16  Profit                     30871 non-null  int64         \n",
      " 17  Order Datetime             30871 non-null  datetime64[ns]\n",
      " 18  Shipment Datetime          30871 non-null  datetime64[ns]\n",
      " 19  Order Processing Time      30871 non-null  int64         \n",
      "dtypes: datetime64[ns](2), float64(1), int64(9), object(8)\n",
      "memory usage: 4.7+ MB\n"
     ]
    }
   ],
   "source": [
    "# Final Check\n",
    "df_orders.info()"
   ]
  },
  {
   "cell_type": "code",
   "execution_count": 31,
   "id": "faa852c8",
   "metadata": {},
   "outputs": [
    {
     "name": "stdout",
     "output_type": "stream",
     "text": [
      "<class 'pandas.core.frame.DataFrame'>\n",
      "RangeIndex: 4200 entries, 0 to 4199\n",
      "Data columns (total 4 columns):\n",
      " #   Column                   Non-Null Count  Dtype  \n",
      "---  ------                   --------------  -----  \n",
      " 0   Product Name             4200 non-null   object \n",
      " 1   Year Month               4200 non-null   int64  \n",
      " 2   Warehouse Inventory      4200 non-null   int64  \n",
      " 3   Inventory Cost Per Unit  4200 non-null   float64\n",
      "dtypes: float64(1), int64(2), object(1)\n",
      "memory usage: 131.4+ KB\n"
     ]
    }
   ],
   "source": [
    "df_inventory.info()"
   ]
  },
  {
   "cell_type": "code",
   "execution_count": 32,
   "id": "7377d893",
   "metadata": {},
   "outputs": [
    {
     "name": "stdout",
     "output_type": "stream",
     "text": [
      "<class 'pandas.core.frame.DataFrame'>\n",
      "RangeIndex: 118 entries, 0 to 117\n",
      "Data columns (total 2 columns):\n",
      " #   Column                              Non-Null Count  Dtype  \n",
      "---  ------                              --------------  -----  \n",
      " 0   Product Name                        118 non-null    object \n",
      " 1   Warehouse Order Fulfillment (days)  118 non-null    float64\n",
      "dtypes: float64(1), object(1)\n",
      "memory usage: 2.0+ KB\n"
     ]
    }
   ],
   "source": [
    "df_fulfillment.info()"
   ]
  },
  {
   "cell_type": "markdown",
   "id": "1d9319fe",
   "metadata": {},
   "source": [
    "# Exporting Cleaned Data"
   ]
  },
  {
   "cell_type": "markdown",
   "id": "8fa2a04b",
   "metadata": {},
   "source": [
    "Save the cleaned and processed DataFrames to a csv file for further visualization and analysis in tableau."
   ]
  },
  {
   "cell_type": "code",
   "execution_count": 33,
   "id": "4c498fbc",
   "metadata": {},
   "outputs": [],
   "source": [
    "# Export DataFrames to CSV\n",
    "df_orders.to_csv('orders_and_shipments.csv', index=False)\n",
    "df_inventory.to_csv('inventory.csv', index=False)\n",
    "df_fulfillment.to_csv('fulfillment.csv', index=False)"
   ]
  },
  {
   "cell_type": "markdown",
   "id": "6178b895",
   "metadata": {},
   "source": [
    "# Conclusion"
   ]
  },
  {
   "cell_type": "markdown",
   "id": "21b097d0",
   "metadata": {},
   "source": [
    "Through this analysis, we successfully explored and performed data cleaning on the df_orders and df_inventory DataFrames. Important metrics such as Profit Margin, Inventory to Sales Delta, Storage Cost, and Shipment Delay will be calculated in tableau to understand inventory performance and supply chain efficiency for the company.\n",
    "\n",
    "Additionally, we removed some anomalous data points that could impact the analysis results. The cleaned and processed data will be exported to a csv file for further analysis and visualization in Tableau."
   ]
  },
  {
   "cell_type": "code",
   "execution_count": null,
   "id": "6b6171a7",
   "metadata": {},
   "outputs": [],
   "source": []
  }
 ],
 "metadata": {
  "kernelspec": {
   "display_name": "Python 3 (ipykernel)",
   "language": "python",
   "name": "python3"
  },
  "language_info": {
   "codemirror_mode": {
    "name": "ipython",
    "version": 3
   },
   "file_extension": ".py",
   "mimetype": "text/x-python",
   "name": "python",
   "nbconvert_exporter": "python",
   "pygments_lexer": "ipython3",
   "version": "3.9.13"
  }
 },
 "nbformat": 4,
 "nbformat_minor": 5
}
